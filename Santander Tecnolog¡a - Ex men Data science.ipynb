{
 "cells": [
  {
   "cell_type": "markdown",
   "metadata": {},
   "source": [
    "# <font color='red'>Examen Data Science</font>"
   ]
  },
  {
   "cell_type": "markdown",
   "metadata": {},
   "source": [
    "![title](img/st.jpeg)"
   ]
  },
  {
   "cell_type": "markdown",
   "metadata": {},
   "source": [
    "Escribir su Nombre y Apellido a continuación"
   ]
  },
  {
   "cell_type": "markdown",
   "metadata": {},
   "source": [
    "Nombre:\n",
    "Apellido:"
   ]
  },
  {
   "cell_type": "markdown",
   "metadata": {},
   "source": [
    "# Sección A - Desafíos Técnicos"
   ]
  },
  {
   "cell_type": "markdown",
   "metadata": {},
   "source": [
    "## <font color='red'>1 -Python</font>"
   ]
  },
  {
   "cell_type": "markdown",
   "metadata": {},
   "source": [
    "### py-1) Vectores, Clases y Objetos\n",
    "\n",
    "Desarrollar una clase en python que, al instanciar, reciba un vector **weights** y que tenga la siguiente funcionalidad:\n",
    "\n",
    "\n",
    "* Desarrollar el método **set_weights** que pueda sobrescribir los valores del atributo `weights`\n",
    "* Desarrollar el método **dot** que permita multiplicar el vector `weigths` por un vector de entrada. (producto escalar)\n",
    "* Desarrollar el método **predict** que utilice la salida del método dot y lo pasé por la función ReLu. <a href=https://es.wikipedia.org/wiki/Rectificador_(redes_neuronales)>Función Relu</a>  \n",
    "* Desarrollar otra clase que herede el comportamiento de la clase anterior y que además:\n",
    "  * Reciba un parametro adicional: `bias` (int64)\n",
    "  * Redefina el método **dot** y al producto le sume el atributo `bias`"
   ]
  },
  {
   "cell_type": "code",
   "execution_count": null,
   "metadata": {},
   "outputs": [],
   "source": [
    "import numpy as np\n",
    "weights = np.array([-4,3,1,-2])"
   ]
  },
  {
   "cell_type": "code",
   "execution_count": null,
   "metadata": {},
   "outputs": [],
   "source": [
    "# Escriba aquí su respuesta"
   ]
  },
  {
   "cell_type": "markdown",
   "metadata": {},
   "source": [
    "### py-2) Unit test\n",
    "\n",
    "Desarrollar un test unitario que permita evaluar los métodos de la clase base. "
   ]
  },
  {
   "cell_type": "code",
   "execution_count": null,
   "metadata": {},
   "outputs": [],
   "source": [
    "# Escriba aquí su respuesta"
   ]
  },
  {
   "cell_type": "markdown",
   "metadata": {},
   "source": [
    "## <font color='red'>2- SQL</font>"
   ]
  },
  {
   "cell_type": "markdown",
   "metadata": {},
   "source": [
    "Para el siguiente ejercicio se tiene una base de datos que tiene el siguiente DER:\n",
    "\n",
    "![title](img/img_der.png)\n",
    "\n",
    "\n",
    "* Persona (id) puede tener muchas Tarjetas (se relaciona a través de `id_titular`)\n",
    "* Una Compra siempre es realizada con una única tarjeta\n",
    "* (EXTRA) La tabla Compra posee un histórico de más de 10 años y varias decenas de millones de registros por lo que las consultas a esta entidad pueden tardar varios minutos si no están correctamente optimizadas."
   ]
  },
  {
   "cell_type": "markdown",
   "metadata": {},
   "source": [
    "### sql-1) Query\n",
    "\n",
    "Obtener los número de tarjeta que no tengan consumos en el último mes pero que pertenecen a personas que hayan comprado al menos un total de $5000 en el último mes en los rubros (FARMACIA y SUPERMERCADOS) en conjunto. (Si es posible, tener en cuenta el punto EXTRA mencionado previamente).\n"
   ]
  },
  {
   "cell_type": "code",
   "execution_count": null,
   "metadata": {},
   "outputs": [],
   "source": [
    "# Escriba aquí su respuesta"
   ]
  },
  {
   "cell_type": "markdown",
   "metadata": {},
   "source": [
    "### sql-2) Explicar el resultado de la siguiente query\n",
    "\n",
    "* ¿Qué se obtiene cómo resultado?\n",
    "* ¿Quiénes son P1, P2 y P3?\n",
    "* (EXTRA) Si supiera que la tabla persona se carga completa todos los días del año, cada día teniendo una foto guardada con una valor distinto dentro de una variable llamada partition_date. Por ej: uno puede consultar todos los ids de la fecha 2021-05-27 o de la fecha que quiera. ¿Cambiaría algo la siguiente query si quisiera obtener el mismo resultado para la última fecha disponible?"
   ]
  },
  {
   "cell_type": "markdown",
   "metadata": {},
   "source": [
    "\n",
    " <font color='blue'>**SELECT**</font> P1.dni,  <font color='red'>COUNT</font> ( <font color='red'>DISTINCT</font>  ( P2.id ) )\\\n",
    "<font color='blue'>**FROM** </font> Persona P1 \\\n",
    "<font color='blue'>**JOIN**</font> Persona P2 on P1.id_padre = P2.id \\\n",
    "<font color='blue'>**JOIN**</font>  Persona P3 on P2.id_padre = P3.id \\\n",
    "<font color='blue'>**WHERE**</font>  P3.sexo = 'MASCULINO' \\\n",
    "<font color='blue'>**GROUP BY**</font>  P1.dni "
   ]
  },
  {
   "cell_type": "code",
   "execution_count": null,
   "metadata": {},
   "outputs": [],
   "source": [
    "# Escriba aquí su respuesta"
   ]
  },
  {
   "cell_type": "markdown",
   "metadata": {},
   "source": [
    "# Sección B - Desafío Machine Learning"
   ]
  },
  {
   "cell_type": "markdown",
   "metadata": {},
   "source": [
    "#### Enunciado Parte Práctica\n",
    "\n",
    "El ejercicio consiste en realizar una clasificación de intención de compra online. Para ello se dispondrá de un dataset **online_shoppers_intention.csv** el cual consta de **12.330** registros y **18** columnas\n",
    "* El target es la columnna **Revenue** \n",
    "\n",
    "Para completar el desafío se deberá:\n",
    "* Realizar un análisis exploratorio de los datos\n",
    "* Explicar la elección del algoritmo utilizado\n",
    "* Explicar los resultados obtenidos (Métricas)\n",
    "* Explicar cuales son las variables que más afectan a la predicción.\n",
    "* Contestar las siguientes preguntas:\n",
    "  * *¿El modelo final elegido es bueno? Justificar*\n",
    "  * *¿Existe overfitting o underfitting?* \n",
    "\n",
    "⚠️**ACLARACIONES:**⚠️\n",
    "\n",
    "- Se tendrá en cuenta la prolijidad del informe. \n",
    "- Se tendrá en cuenta la legibilidad del código.\n",
    "- De ser necesario, dejar asentado los supuestos utilizados por escrito."
   ]
  },
  {
   "cell_type": "code",
   "execution_count": null,
   "metadata": {},
   "outputs": [],
   "source": [
    "import pandas as pd\n",
    "import numpy as np\n",
    "import matplotlib.pyplot as plt"
   ]
  },
  {
   "cell_type": "code",
   "execution_count": null,
   "metadata": {},
   "outputs": [],
   "source": [
    "df = pd.read_csv('online_shoppers_intention.csv')"
   ]
  },
  {
   "cell_type": "code",
   "execution_count": null,
   "metadata": {},
   "outputs": [],
   "source": [
    "# Escriba el código aquí"
   ]
  }
 ],
 "metadata": {
  "kernelspec": {
   "display_name": "Python 3",
   "language": "python",
   "name": "python3"
  },
  "language_info": {
   "codemirror_mode": {
    "name": "ipython",
    "version": 3
   },
   "file_extension": ".py",
   "mimetype": "text/x-python",
   "name": "python",
   "nbconvert_exporter": "python",
   "pygments_lexer": "ipython3",
   "version": "3.7.9"
  }
 },
 "nbformat": 4,
 "nbformat_minor": 4
}
